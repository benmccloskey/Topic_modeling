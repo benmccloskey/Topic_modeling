{
  "nbformat": 4,
  "nbformat_minor": 0,
  "metadata": {
    "colab": {
      "name": "PDF_Extract_Practice.ipynb",
      "provenance": [],
      "collapsed_sections": [],
      "include_colab_link": true
    },
    "kernelspec": {
      "name": "python3",
      "display_name": "Python 3"
    },
    "language_info": {
      "name": "python"
    }
  },
  "cells": [
    {
      "cell_type": "markdown",
      "metadata": {
        "id": "view-in-github",
        "colab_type": "text"
      },
      "source": [
        "<a href=\"https://colab.research.google.com/github/benmccloskey/Topic_modeling/blob/main/PDF_Extract_Practice.ipynb\" target=\"_parent\"><img src=\"https://colab.research.google.com/assets/colab-badge.svg\" alt=\"Open In Colab\"/></a>"
      ]
    },
    {
      "cell_type": "code",
      "execution_count": null,
      "metadata": {
        "colab": {
          "base_uri": "https://localhost:8080/"
        },
        "id": "ShqGkIl268M1",
        "outputId": "d24c33cb-e671-4ff9-cc90-2c98941a2a4f"
      },
      "outputs": [
        {
          "output_type": "stream",
          "name": "stdout",
          "text": [
            "Mounted at /content/drive\n"
          ]
        }
      ],
      "source": [
        "from google.colab import drive\n",
        "drive.mount('/content/drive', force_remount=True)"
      ]
    },
    {
      "cell_type": "code",
      "source": [
        "pip install PyPDF2"
      ],
      "metadata": {
        "colab": {
          "base_uri": "https://localhost:8080/"
        },
        "id": "HO0P4IqWaWON",
        "outputId": "67ac6aee-ca2e-4725-a6a9-2948e69cee4d"
      },
      "execution_count": null,
      "outputs": [
        {
          "output_type": "stream",
          "name": "stdout",
          "text": [
            "Looking in indexes: https://pypi.org/simple, https://us-python.pkg.dev/colab-wheels/public/simple/\n",
            "Collecting PyPDF2\n",
            "  Downloading PyPDF2-2.0.0-py3-none-any.whl (88 kB)\n",
            "\u001b[K     |████████████████████████████████| 88 kB 3.4 MB/s \n",
            "\u001b[?25hRequirement already satisfied: typing-extensions in /usr/local/lib/python3.7/dist-packages (from PyPDF2) (4.2.0)\n",
            "Installing collected packages: PyPDF2\n",
            "Successfully installed PyPDF2-2.0.0\n"
          ]
        }
      ]
    },
    {
      "cell_type": "code",
      "source": [
        "import PyPDF2 #PDF Parser\n",
        "import re #regular-expressions\n",
        "import pandas as pd\n",
        "import numpy as np\n",
        "from pathlib import Path\n",
        "import joblib "
      ],
      "metadata": {
        "id": "UPPre0sy7d8s"
      },
      "execution_count": null,
      "outputs": []
    },
    {
      "cell_type": "code",
      "source": [
        "def pdf_reader(pdf_file_path):\n",
        "  \"\"\"\n",
        "  Opens and creates a pdf reader for the desired pdf\n",
        "  \n",
        "  Arguments:\n",
        "  pdf_file_path: The file path to the desired pdf you wish to read\n",
        "\n",
        "  returns:\n",
        "  A correctly formatted PDF as well as the number of pages.\n",
        "  \"\"\"\n",
        "  opener = open(pdf_file_path,'rb')\n",
        "  #assert opener  == True, print(\"Invalid PDF File Path\")\n",
        "  pdf_file_reader = PyPDF2.PdfFileReader(opener)\n",
        "  print(\"PDF Successfully Read!\")\n",
        "  print(\"Number of Pages:\",pdf_file_reader.numPages)\n",
        "  return pdf_file_reader"
      ],
      "metadata": {
        "id": "MSvlnCGNbGGF"
      },
      "execution_count": null,
      "outputs": []
    },
    {
      "cell_type": "code",
      "source": [
        "pdf_path = '/content/drive/MyDrive/NLP/AlexNet_Paper.pdf' #Put the file path of the pdf here. Make sure it is in quotations!\n",
        "\n",
        "test_reader = pdf_reader(pdf_path)"
      ],
      "metadata": {
        "colab": {
          "base_uri": "https://localhost:8080/"
        },
        "id": "ka9I2ZGYcHx8",
        "outputId": "eb3c07fd-532e-4939-bb00-b89826ca5958"
      },
      "execution_count": null,
      "outputs": [
        {
          "output_type": "stream",
          "name": "stdout",
          "text": [
            "PDF Successfully Read!\n",
            "Number of Pages: 9\n"
          ]
        }
      ]
    },
    {
      "cell_type": "code",
      "source": [
        "test_reader.documentInfo.keys() #These keys the what will fill out the important information document"
      ],
      "metadata": {
        "colab": {
          "base_uri": "https://localhost:8080/"
        },
        "id": "8B06gxpr-I_5",
        "outputId": "98dd0c5a-0b72-49d2-9f55-121ca7657778"
      },
      "execution_count": null,
      "outputs": [
        {
          "output_type": "execute_result",
          "data": {
            "text/plain": [
              "dict_keys(['/Subject', '/Publisher', '/Language', '/Created', '/Description-Abstract', '/Producer', '/Title', '/Date', '/ModDate', '/Published', '/Type', '/firstpage', '/Book', '/Description', '/Editors', '/Author', '/lastpage'])"
            ]
          },
          "metadata": {},
          "execution_count": 31
        }
      ]
    },
    {
      "cell_type": "code",
      "source": [
        "def pdf_info(read_pdf):\n",
        "  \"\"\"\n",
        "  Takes a formated PyPDF2 PDF and returns the pertinent information of said PDF\n",
        "\n",
        "  ArgumentsL \n",
        "  read_pdf: A .pdf previously formatted by PyPDF2\n",
        "  \n",
        "  returns:\n",
        "  List of all of the attributes\n",
        "  \"\"\"\n",
        "  pdf_info_dict = {}\n",
        "  pdf_info = {}\n",
        "  for key,value in read_pdf.documentInfo.items():\n",
        "    # print(re.sub('/',\"\",item) ,':',read_pdf.documentInfo[item]) #Uncommenting this code gives you the ability to see the general information of the pdf\n",
        "\n",
        "    pdf_info_dict[re.sub('/',\"\",key)] = value\n",
        "\n",
        "  return pdf_info_dict"
      ],
      "metadata": {
        "id": "64XzhNTEi_1j"
      },
      "execution_count": null,
      "outputs": []
    },
    {
      "cell_type": "code",
      "source": [
        "def pdf_list_to_series_and_df(pdf_info_dict):\n",
        "  pdf_series = pd.Series(pdf_info_dict)\n",
        "  \n",
        "  key_list = []\n",
        "  val_list = []\n",
        "  \n",
        "  for key, val in pdf_info_dict.items():\n",
        "    key_list.append(key)\n",
        "    val_list.append(val)\n",
        "  \n",
        "  pdf_df = pd.Series.to_frame(pdf_series)\n",
        "  pdf_df = pd.DataFrame({\"Attribute\" : key_list, \"Information\" : val_list}, index=key_list)\n",
        "\n",
        "  filepath = Path('/content/drive/MyDrive/NLP/output.csv')  \n",
        "  filepath.parent.mkdir(parents=True, exist_ok=True) \n",
        "  pdf_df.to_csv(filepath, index=False)\n",
        "  return pdf_series, pdf_df"
      ],
      "metadata": {
        "id": "mbIIZDIuF1rh"
      },
      "execution_count": null,
      "outputs": []
    },
    {
      "cell_type": "code",
      "source": [
        "length = test_reader.numPages\n",
        "page_1 = test_reader.getPage(0)\n",
        "text = page_1.extractText()\n",
        "print(text)\n",
        "\n",
        "for i in range(length):\n",
        "  text = test_reader.getPage(i)"
      ],
      "metadata": {
        "colab": {
          "base_uri": "https://localhost:8080/"
        },
        "id": "-Tg0R3QhjalN",
        "outputId": "4e5799a2-931f-4ded-e2b3-c537f096076b"
      },
      "execution_count": null,
      "outputs": [
        {
          "output_type": "stream",
          "name": "stdout",
          "text": [
            "ImageNetClassi\u0002cationwithDeepConvolutional\n",
            "NeuralNetworks\n",
            "AlexKrizhevsky\n",
            "UniversityofToronto\n",
            "kriz@cs.utoronto.ca\n",
            "IlyaSutskever\n",
            "UniversityofToronto\n",
            "ilya@cs.utoronto.ca\n",
            "GeoffreyE.Hinton\n",
            "UniversityofToronto\n",
            "hinton@cs.utoronto.ca\n",
            "Abstract\n",
            "We trained a large, deep convolutional neural network to classify the 1.2 million\n",
            "high-resolution images in the ImageNet LSVRC-2010 contest into the 1000 dif-\n",
            "ferent classes. On the test data, we achieved top-1 and top-5 error rates of 37.5%\n",
            "and 17.0% which is considerably better than the previous state-of-the-art. The\n",
            "neural network, which has 60 million parameters and 650,000 neurons, consists\n",
            "of \u0002ve convolutional layers, some of which are followed by max-pooling layers,\n",
            "and three fully-connected layers with a \u0002nal 1000-way softmax. To make train-\n",
            "ing faster, we used non-saturating neurons and a very ef\u0002cient GPU implemen-\n",
            "tation of the convolution operation. To reduce over\u0002tting in the fully-connected\n",
            "layers we employed a recently-developed regularization method called ﬁdropoutﬂ\n",
            "that proved to be very effective. We also entered a variant of this model in the\n",
            "ILSVRC-2012competitionandachievedawinningtop-5testerrorrateof15.3%,\n",
            "comparedto26.2%achievedbythesecond-bestentry.\n",
            "1 Introduction\n",
            "Current approaches to object recognition make essential use of machine learning methods. To im-\n",
            "prove their performance, we can collect larger datasets, learn more powerful models, and use bet-\n",
            "ter techniques for preventing over\u0002tting. Until recently, datasets of labeled images were relatively\n",
            "small Š on the order of tens of thousands of images (e.g., NORB [16], Caltech-101/256 [8, 9], and\n",
            "CIFAR-10/100 [12]). Simple recognition tasks can be solved quite well with datasets of this size,\n",
            "especially if they are augmented with label-preserving transformations. For example, the current-\n",
            "best error rate on the MNIST digit-recognition task (<0.3%) approaches human performance [4].\n",
            "But objects in realistic settings exhibit considerable variability, so to learn to recognize them it is\n",
            "necessary to use much larger training sets. And indeed, the shortcomings of small image datasets\n",
            "havebeenwidelyrecognized(e.g.,Pintoetal.[21]),butithasonlyrecentlybecomepossibletocol-\n",
            "lect labeled datasets with millions of images. The new larger datasets include LabelMe [23], which\n",
            "consists of hundreds of thousands of fully-segmented images, and ImageNet [6], which consists of\n",
            "over15millionlabeledhigh-resolutionimagesinover22,000categories.\n",
            "Tolearnaboutthousandsofobjectsfrommillionsofimages,weneedamodelwithalargelearning\n",
            "capacity. However, the immense complexity of the object recognition task means that this prob-\n",
            "lem cannot be speci\u0002ed even by a dataset as large as ImageNet, so our model should also have lots\n",
            "of prior knowledge to compensate for all the data we don't have. Convolutional neural networks\n",
            "(CNNs) constitute one such class of models [16, 11, 13, 18, 15, 22, 26]. Their capacity can be con-\n",
            "trolledbyvaryingtheirdepthandbreadth,andtheyalsomakestrongandmostlycorrectassumptions\n",
            "about the nature of images (namely, stationarity of statistics and locality of pixel dependencies).\n",
            "Thus, compared to standard feedforward neural networks with similarly-sized layers, CNNs have\n",
            "muchfewerconnectionsandparametersandsotheyareeasiertotrain,whiletheirtheoretically-best\n",
            "performanceislikelytobeonlyslightlyworse.\n",
            "1\n",
            "\n"
          ]
        }
      ]
    },
    {
      "cell_type": "code",
      "source": [
        "def text_extraction(read_pdf):\n",
        "  \"\"\"\n",
        "  This function will take in a PyPDF2 transformed PDF and create a dictionary of each page with its associated text\n",
        "  Arguments:\n",
        "  read_pdf: A PyPDF2 transformated PDf\n",
        "\n",
        "  Returns:\n",
        "  Page_Dictionary: A dictionary where the page number is the key and its item is the text contained within that page.\n",
        "  \"\"\"\n",
        "  length = read_pdf.numPages\n",
        "  page_dict = {}\n",
        "  for i in range(length):\n",
        "    page = read_pdf.getPage(i)\n",
        "    text = page.extract_text()\n",
        "    page_dict[i] = text\n",
        "  return page_dict"
      ],
      "metadata": {
        "id": "xVQbEX0en6ND"
      },
      "execution_count": null,
      "outputs": []
    },
    {
      "cell_type": "code",
      "source": [
        "def pdf_cleaner(pdf_path):\n",
        "  file_reader = pdf_reader(pdf_path) #Reading and converting the desired PDF\n",
        "  pdf_information = pdf_info(file_reader) # getting the information for the pdf\n",
        "  pdf_info_series, pdf_info_csv = pdf_list_to_series_and_df(pdf_information) #Create a Dataframe/Series that can be viewd of the important info. \n",
        "  page_dictionary = text_extraction(file_reader) #Creating a dictionary of each of the pages and the information in text contaiend by those pages\n",
        "  return file_reader, pdf_information, page_dictionary, pdf_info_csv"
      ],
      "metadata": {
        "id": "NCAALSusqTAo"
      },
      "execution_count": null,
      "outputs": []
    },
    {
      "cell_type": "code",
      "source": [
        "converted_pdf, info_pdf, dict_pdf, info_csv = pdf_cleaner(pdf_path)"
      ],
      "metadata": {
        "colab": {
          "base_uri": "https://localhost:8080/"
        },
        "id": "vH91duEMuIX0",
        "outputId": "09f21847-0808-4c37-bbfd-17d2df0cec76"
      },
      "execution_count": null,
      "outputs": [
        {
          "output_type": "stream",
          "name": "stdout",
          "text": [
            "PDF Successfully Read!\n",
            "Number of Pages: 9\n"
          ]
        }
      ]
    },
    {
      "cell_type": "markdown",
      "source": [
        "\n",
        "## The Following Block is where IP address are investigated."
      ],
      "metadata": {
        "id": "-Tc34BaWusZT"
      }
    },
    {
      "cell_type": "code",
      "source": [
        "c = 'Will this work 110.234.52.124 will hia 192.168.0.1 g 110.234.52.124 will hia 192.168.0.1 '"
      ],
      "metadata": {
        "id": "v4OAxaL_F1vH"
      },
      "execution_count": null,
      "outputs": []
    },
    {
      "cell_type": "code",
      "source": [
        "def find_ip(text):\n",
        "  \"\"\"\n",
        "  Function that accepts a string of text and finds valid IP address.\n",
        "\n",
        "  Parameters\n",
        "  text: A string of texts\n",
        "\n",
        "  Returns:\n",
        "  All valid IP addresses with in the string of text\n",
        "  \"\"\"\n",
        "  pattern = re.compile(r'(\\d{1,3}\\.\\d{1,3}\\.\\d{1,3}\\.\\d{1,3})')\n",
        "\n",
        "  ip_list = set(pattern.findall(text))\n",
        "\n",
        "  if ip_list == []:\n",
        "    print('No IP addresses found.')\n",
        "    \n",
        "  return ip_list"
      ],
      "metadata": {
        "id": "p6nHK07ENluf"
      },
      "execution_count": null,
      "outputs": []
    },
    {
      "cell_type": "code",
      "source": [
        "check = find_ip(c)\n",
        "check\n"
      ],
      "metadata": {
        "id": "418LjDkfPJCJ",
        "colab": {
          "base_uri": "https://localhost:8080/"
        },
        "outputId": "a32644b1-a563-48a0-bb98-bf8ed18ea227"
      },
      "execution_count": null,
      "outputs": [
        {
          "output_type": "execute_result",
          "data": {
            "text/plain": [
              "{'110.234.52.124', '192.168.0.1'}"
            ]
          },
          "metadata": {},
          "execution_count": 40
        }
      ]
    },
    {
      "cell_type": "markdown",
      "source": [
        "## The following code searches for email addresses"
      ],
      "metadata": {
        "id": "bDaXUhDBwgf-"
      }
    },
    {
      "cell_type": "code",
      "source": [
        "def page_to_one_line(pdf_pages):\n",
        "  \"\"\" A function that takes an extracted PDF as its input and converts each line to one page\n",
        "\n",
        "  \"\"\"\n",
        "  one_liner_pdf = {}\n",
        "  for i in range(len(pdf_pages)):\n",
        "    text = pdf_pages[i]\n",
        "    text = text.replace(\"\\n\", \" \")\n",
        "    \n",
        "    #print(text)\n",
        "    one_liner_pdf[i] = text\n",
        "    # one_liner_pdf[i] = one_line_text\n",
        "\n",
        "  return one_liner_pdf"
      ],
      "metadata": {
        "id": "uBmQC-hjfm4z"
      },
      "execution_count": null,
      "outputs": []
    },
    {
      "cell_type": "code",
      "source": [
        "check = page_to_one_line(dict_pdf)"
      ],
      "metadata": {
        "id": "himFUK4JkDfL"
      },
      "execution_count": null,
      "outputs": []
    },
    {
      "cell_type": "code",
      "source": [
        "def find_email(text):\n",
        "  pattern = re.compile(r'[\\w.+-]+@[\\w-]+\\.[\\w.-]+')\n",
        "  email_list = pattern.findall(text)\n",
        "  # if email_list == []:\n",
        "  #   #print('No email addresses were found.')\n",
        "  #   email_list.append('')\n",
        "  return email_list"
      ],
      "metadata": {
        "id": "AfcpX5IyYnro"
      },
      "execution_count": null,
      "outputs": []
    },
    {
      "cell_type": "code",
      "source": [
        "def print_emails(pdf_dict):\n",
        "\n",
        "  emaillist = {}\n",
        "  for i in range(len(pdf_dict)):\n",
        "    emaillist[i] = find_email(pdf_dict[i])\n",
        "  \n",
        "  for i in list(emaillist):\n",
        "    if emaillist[i] == []: #Get's rid of any pages that do not containt an email.\n",
        "      del(emaillist[i])\n",
        "  return emaillist"
      ],
      "metadata": {
        "id": "Trt0Y3B_kJbp"
      },
      "execution_count": null,
      "outputs": []
    },
    {
      "cell_type": "code",
      "source": [
        "check = print_emails(check)\n",
        "check"
      ],
      "metadata": {
        "colab": {
          "base_uri": "https://localhost:8080/"
        },
        "id": "gAheWibzmT_d",
        "outputId": "0248a12f-c6f4-43d2-cb89-b7819d36e0b7"
      },
      "execution_count": null,
      "outputs": [
        {
          "output_type": "execute_result",
          "data": {
            "text/plain": [
              "{0: ['kriz@cs.utoronto.ca', 'ilya@cs.utoronto.ca', 'hinton@cs.utoronto.ca']}"
            ]
          },
          "metadata": {},
          "execution_count": 49
        }
      ]
    },
    {
      "cell_type": "markdown",
      "source": [
        "## Creating Code that can find all of the IP Addresses on a Page"
      ],
      "metadata": {
        "id": "ntR7ubDXZTJf"
      }
    },
    {
      "cell_type": "code",
      "source": [
        "def find_ip(text):\n",
        "  \"\"\"\n",
        "  Function that accepts a string of text and finds valid IP address.\n",
        "\n",
        "  Parameters\n",
        "  text: A string of texts\n",
        "\n",
        "  Returns:\n",
        "  All valid IP addresses with in the string of text\n",
        "  \"\"\"\n",
        "  pattern = re.compile(r'(\\d{1,3}\\.\\d{1,3}\\.\\d{1,3}\\.\\d{1,3})')\n",
        "\n",
        "  ip_list = set(pattern.findall(text))\n",
        "\n",
        "  if ip_list == []:\n",
        "    print('No IP addresses found.')\n",
        "    \n",
        "  return ip_list"
      ],
      "metadata": {
        "id": "tADxrFfKc8WA"
      },
      "execution_count": null,
      "outputs": []
    },
    {
      "cell_type": "code",
      "source": [
        "#Convert the above code to use sets tomorrow and create a fucntion for IP addresses\n",
        "def pdf_ip_address_finder(pdf_dict):\n",
        "\n",
        "  iplist = {}\n",
        "  for i in range(len(pdf_dict)):\n",
        "    iplist[i] = find_ip(pdf_dict[i])\n",
        "  \n",
        "  for i in list(iplist):\n",
        "    if iplist[i] == []: #Get's rid of any pages that do not containt an email.\n",
        "      del(iplist[i])\n",
        "  return iplist"
      ],
      "metadata": {
        "id": "xYJqSYt_nAPp"
      },
      "execution_count": null,
      "outputs": []
    },
    {
      "cell_type": "code",
      "source": [
        "check_dict = {0 : 'Will this work 110.234.52.124 will hia 192.168.0.1 g 110.234.52.124 will hia 192.168.0.1 '}\n",
        "check = page_to_one_line(dict_pdf)\n",
        "pdf_ip_address_finder(check_dict)\n"
      ],
      "metadata": {
        "id": "edLOt_vPnUVS",
        "colab": {
          "base_uri": "https://localhost:8080/"
        },
        "outputId": "e76adc23-d1f2-4d0c-97cd-17618e9cea83"
      },
      "execution_count": null,
      "outputs": [
        {
          "output_type": "execute_result",
          "data": {
            "text/plain": [
              "{0: {'110.234.52.124', '192.168.0.1'}}"
            ]
          },
          "metadata": {},
          "execution_count": 62
        }
      ]
    },
    {
      "cell_type": "code",
      "source": [
        ""
      ],
      "metadata": {
        "id": "cwrq7kh_dIgm"
      },
      "execution_count": null,
      "outputs": []
    }
  ]
}